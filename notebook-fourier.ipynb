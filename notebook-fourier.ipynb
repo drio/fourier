{
 "cells": [
  {
   "cell_type": "markdown",
   "metadata": {},
   "source": [
    "### Understanding the Fourier Transform\n",
    "\n",
    "<img src=\"./fourier.png\" width=\"10%\">"
   ]
  },
  {
   "cell_type": "markdown",
   "metadata": {},
   "source": [
    "I came across the fourier transform while writing software in different contexts. \n",
    "I was fascinated by the power of this method but I did not understood how it works. \n",
    "This notebook contains all the work we have been doing to try to understand how\n",
    "the FT works.\n",
    "\n",
    "First, the FT is a mathematical method to find the contributions of simple signals \n",
    "(sin/cos) to a more complex signal.\n",
    "\n",
    "$$\n",
    "F(\\frac{n}{NT}) = \\frac{1}{N} \n",
    "\\sum_{k=0}^{N-1} m(kT) e^{-j\\frac{2\\pi n k}{N}} \\hspace{1cm} n = 0,1, \\cdots N-1\n",
    "$$\n",
    "\n",
    "Without digging into the formula details, let's define the variables. \n",
    "\n",
    "$N$ is the number of samples we have in the window we are analyzing. \n",
    "\n",
    "$T$ is the period of sampling ($T = \\frac{1}{f}$) where $f$ is the sampling frequency. \n",
    "\n",
    "$n$ is the index of the frequency we are analyzing. \n",
    "\n",
    "$m(kT)$ yields the value of the sample k for a particular frequency.\n",
    "\n",
    "What the method does is to resolve the equation for different frequencies. Those\n",
    "frequencies come from the value of $n$, the number of samples $N$, and the sampling\n",
    "frequency (remember, $N = \\frac{1}{f}$).\n",
    "\n"
   ]
  },
  {
   "cell_type": "code",
   "execution_count": 1,
   "metadata": {
    "collapsed": true
   },
   "outputs": [],
   "source": [
    "from __future__ import print_function, division\n",
    "\n",
    "%matplotlib inline\n",
    "\n",
    "import thinkdsp\n",
    "import thinkplot\n",
    "\n",
    "import numpy as np\n",
    "\n",
    "#import warnings\n",
    "#warnings.filterwarnings('ignore')\n",
    "\n",
    "from ipywidgets import interact, interactive, fixed\n",
    "import ipywidgets as widgets\n",
    "from IPython.display import display"
   ]
  },
  {
   "cell_type": "code",
   "execution_count": 2,
   "metadata": {
    "collapsed": true
   },
   "outputs": [],
   "source": [
    "# Preparemos la funcion continue que utiliza \n",
    "one_sig = thinkdsp.SinSignal(freq=2, amp=4, offset=0)   # 4*sen(2t)\n",
    "two_sig = thinkdsp.SinSignal(freq=6, amp=2, offset=0)   # 2*sen(6t)"
   ]
  },
  {
   "cell_type": "code",
   "execution_count": 38,
   "metadata": {
    "collapsed": false
   },
   "outputs": [
    {
     "name": "stdout",
     "output_type": "stream",
     "text": [
      "0 0.0 0.0\n",
      "1 0.05 4.25325404176\n",
      "2 0.1 2.6286555606\n",
      "3 0.15000000000000002 2.6286555606\n",
      "4 0.2 4.25325404176\n",
      "5 0.25 1.22464679915e-15\n",
      "6 0.30000000000000004 -4.25325404176\n",
      "7 0.35000000000000003 -2.6286555606\n",
      "8 0.4 -2.6286555606\n",
      "9 0.45 -4.25325404176\n",
      "10 0.5 -2.44929359829e-15\n",
      "11 0.55 4.25325404176\n",
      "12 0.6000000000000001 2.6286555606\n",
      "13 0.65 2.6286555606\n",
      "14 0.7000000000000001 4.25325404176\n",
      "15 0.75 3.67394039744e-15\n",
      "16 0.8 -4.25325404176\n",
      "17 0.8500000000000001 -2.6286555606\n"
     ]
    },
    {
     "data": {
      "image/png": "[encoded data removed]",
      "text/plain": [
       "<matplotlib.figure.Figure at 0x11efd1a90>"
      ]
     },
     "metadata": {},
     "output_type": "display_data"
    }
   ],
   "source": [
    "mix           = one_sig + two_sig\n",
    "n_samples     = 18\n",
    "sample_freq   = 20\n",
    "sample_period = 1/fm\n",
    "_duration     = sample_period * n_samples\n",
    "wave = mix.make_wave(duration=_duration, start=0, framerate=sample_freq)\n",
    "wave.plot()\n",
    "\n",
    "# This is the array of samples (n_samples size) in the TIME domain\n",
    "a_samples_time = [i*sample_period for i in range(n_samples)]\n",
    "    \n",
    "# Let's evaluate those to validate what we have in the paper\n",
    "a_samples_values = mix.evaluate(a_samples_time)\n",
    "\n",
    "for i, (one, two) in enumerate(zip(a_samples_time, a_samples_values)):\n",
    "    print(i, one, two)\n",
    "    \n",
    "\n",
    "                                      \n"
   ]
  },
  {
   "cell_type": "markdown",
   "metadata": {},
   "source": [
    "Everything is pretty clear with the exception of the evaluate function.\n",
    "What are we doing there? This is the code:\n",
    "\n",
    "From the DSP book:\n",
    "\n",
    "`\n",
    " def evaluate(self, ts):\n",
    "        phases = PI2 * self.freq * ts + self.offset\n",
    "        ys = self.amp * self.func(phases)\n",
    "        return ys\n",
    "`\n",
    "\n",
    "Let’s unwind this function one step at time:\n",
    "\n",
    "    1. self.freq is frequency in cycles per second, and each element of ts is a time in seconds, so their product is the number of cycles since the start time.\n",
    "\n",
    "    2. PI2 is a constant that stores 2π. Multiplying by PI2 converts from cycles to phase. You can think of phase as “cycles since the start time” expressed in radians. Each cycle is 2π radians.\n",
    "\n",
    "    3. self.offset is the phase when t = 0. It has the effect of shifting the signal left or right in time.\n",
    "\n",
    "    4. If self.func is np.sin or np.cos, the result is a value between −1 and +1.\n",
    "\n",
    "    5. Multiplying by self.amp yields a signal that ranges from -self.amp to +self.amp.\n",
    "\n",
    "So, before applying the value to the function to get our value, we convert\n",
    "from seconds to cycles (since the start of time) in radiands. \n",
    "\n",
    "We are just doing a units conversion to radians (Angular measure). sin() an cos()\n",
    "perate in those units (?).\n",
    "\n",
    "Ok, now we can carry on. The continuous function we are evaluting\n",
    "matches the one in the paper."
   ]
  },
  {
   "cell_type": "code",
   "execution_count": 73,
   "metadata": {
    "collapsed": false
   },
   "outputs": [
    {
     "data": {
      "image/png": "[encoded data removed]",
      "text/plain": [
       "<matplotlib.figure.Figure at 0x11ef147f0>"
      ]
     },
     "metadata": {},
     "output_type": "display_data"
    }
   ],
   "source": [
    "spec = wave.make_spectrum()\n",
    "spec.plot()"
   ]
  },
  {
   "cell_type": "markdown",
   "metadata": {},
   "source": [
    "We can by computing the spectrum that our wave has two dominating frequencies (2 and 6). That matches what we see in the paper. But let's go lower level and apply the FFT ourselves.\n"
   ]
  },
  {
   "cell_type": "markdown",
   "metadata": {},
   "source": [
    "The `make_spectrum` code looks like:\n",
    "\n",
    "```\n",
    " def make_spectrum(self, full=False):\n",
    "        \"\"\"Computes the spectrum using FFT.\n",
    "\n",
    "        returns: Spectrum\n",
    "        \"\"\"\n",
    "        n = len(self.ys)\n",
    "        d = 1 / self.framerate\n",
    "\n",
    "        if full:\n",
    "            hs = np.fft.fft(self.ys)\n",
    "            fs = np.fft.fftfreq(n, d)\n",
    "        else:\n",
    "            hs = np.fft.rfft(self.ys)\n",
    "            fs = np.fft.rfftfreq(n, d)\n",
    "\n",
    "        return Spectrum(hs, fs, self.framerate, full)\n",
    "```\n",
    "\n",
    "the parameter full is False so we compute this:\n",
    "\n",
    "```\n",
    " hs = np.fft.rfft(self.ys)\n",
    " fs = np.fft.rfftfreq(n, d)\n",
    "```\n",
    "\n",
    "notice that hs is the array of amplitudes and fs is the array\n",
    "of frequencies. We'll explore this in the next cell.\n",
    "\n",
    "Let's run that manually:\n"
   ]
  },
  {
   "cell_type": "code",
   "execution_count": 83,
   "metadata": {
    "collapsed": false
   },
   "outputs": [
    {
     "name": "stdout",
     "output_type": "stream",
     "text": [
      "--- hs first\n",
      "18 10\n",
      "[  6.8819096   10.12745205  32.94322445   6.01500955   5.49224861\n",
      "  14.57359036   8.43294503   2.96632111   1.87893177   1.62459848]\n",
      "[ 0.34409548  0.5063726   1.64716122  0.30075048  0.27461243  0.72867952\n",
      "  0.42164725  0.14831606  0.09394659  0.08122992]\n",
      "---- fs now\n",
      "[  0.           1.11111111   2.22222222   3.33333333   4.44444444\n",
      "   5.55555556   6.66666667   7.77777778   8.88888889  10.        ]\n"
     ]
    }
   ],
   "source": [
    "#This function computes the one-dimensional *n*-point discrete Fourier\n",
    "#Transform (DFT) of a real-valued array by means of an efficient algorithm\n",
    "#called the Fast Fourier Transform (FFT).\n",
    "print(\"--- hs first\")\n",
    "hs = np.absolute(np.fft.rfft(a_samples_values))\n",
    "print(len(a_samples_values), len(hs))\n",
    "print(hs)\n",
    "print(hs/20)\n",
    "\n",
    "print(\"---- fs now\")\n",
    "fs = np.absolute(np.fft.rfftfreq(len(a_samples_values), sample_period ))\n",
    "print(fs)\n"
   ]
  },
  {
   "cell_type": "code",
   "execution_count": 89,
   "metadata": {
    "collapsed": false
   },
   "outputs": [
    {
     "data": {
      "image/png": "[encoded data removed]",
      "text/plain": [
       "<matplotlib.figure.Figure at 0x11e95c780>"
      ]
     },
     "metadata": {},
     "output_type": "display_data"
    }
   ],
   "source": [
    "# This is what we got when we run make_spectrum() above. Cool.\n",
    "plt.plot(fs, hs)\n",
    "plt.ylabel('values')\n",
    "plt.xlabel('freq')\n",
    "plt.show()"
   ]
  }
 ],
 "metadata": {
  "kernelspec": {
   "display_name": "Python 3",
   "language": "python",
   "name": "python3"
  },
  "language_info": {
   "codemirror_mode": {
    "name": "ipython",
    "version": 3
   },
   "file_extension": ".py",
   "mimetype": "text/x-python",
   "name": "python",
   "nbconvert_exporter": "python",
   "pygments_lexer": "ipython3",
   "version": "3.6.0"
  }
 },
 "nbformat": 4,
 "nbformat_minor": 2
}
